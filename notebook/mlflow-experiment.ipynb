{
 "cells": [
  {
   "cell_type": "code",
   "execution_count": 1,
   "id": "67c1b93e",
   "metadata": {},
   "outputs": [],
   "source": [
    "# mlflow test\n",
    "\n",
    "import mlflow\n",
    "import numpy as np\n",
    "import pandas as pd"
   ]
  },
  {
   "cell_type": "code",
   "execution_count": 5,
   "id": "55f4b2a6",
   "metadata": {},
   "outputs": [
    {
     "name": "stdout",
     "output_type": "stream",
     "text": [
      "🏃 View run melodic-moth-102 at: http://ec2-54-198-108-56.compute-1.amazonaws.com:5000/#/experiments/0/runs/f4039bb8f9544e3eac3ebc5be056a6bb\n",
      "🧪 View experiment at: http://ec2-54-198-108-56.compute-1.amazonaws.com:5000/#/experiments/0\n"
     ]
    }
   ],
   "source": [
    "mlflow.set_tracking_uri(\"http://ec2-54-198-108-56.compute-1.amazonaws.com:5000\")\n",
    "\n",
    "with mlflow.start_run():\n",
    "    mlflow.log_param(\"param1\", 15)\n",
    "    mlflow.log_metric(\"metric1\", 0.89)\n"
   ]
  },
  {
   "cell_type": "code",
   "execution_count": null,
   "id": "9802c7a7",
   "metadata": {},
   "outputs": [],
   "source": []
  }
 ],
 "metadata": {
  "kernelspec": {
   "display_name": "Python 3",
   "language": "python",
   "name": "python3"
  },
  "language_info": {
   "codemirror_mode": {
    "name": "ipython",
    "version": 3
   },
   "file_extension": ".py",
   "mimetype": "text/x-python",
   "name": "python",
   "nbconvert_exporter": "python",
   "pygments_lexer": "ipython3",
   "version": "3.13.5"
  }
 },
 "nbformat": 4,
 "nbformat_minor": 5
}
