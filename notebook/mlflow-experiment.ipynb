{
 "cells": [
  {
   "cell_type": "code",
   "execution_count": 3,
   "id": "67c1b93e",
   "metadata": {},
   "outputs": [],
   "source": [
    "# mlflow test\n",
    "\n",
    "import mlflow\n",
    "import numpy as np\n",
    "import pandas as pd\n",
    "import warnings\n",
    "warnings.filterwarnings('ignore')\n",
    "import seaborn as sns\n",
    "import matplotlib.pyplot as plt\n",
    "from nltk.corpus import stopwords\n",
    "from nltk.stem import WordNetLemmatizer \n",
    "import nltk\n",
    "from collections import Counter\n",
    "from sklearn.feature_extraction.text import CountVectorizer\n",
    "import re\n",
    "from wordcloud import WordCloud \n",
    "import mlflow.sklearn\n",
    "from sklearn.model_selection import train_test_split, cross_val_predict, StratifiedKFold\n",
    "from sklearn.metrics import accuracy_score, confusion_matrix, classification_report\n",
    "from sklearn.ensemble import RandomForestClassifier\n",
    "from sklearn.feature_extraction.text import CountVectorizer"
   ]
  },
  {
   "cell_type": "code",
   "execution_count": 4,
   "id": "55f4b2a6",
   "metadata": {},
   "outputs": [],
   "source": [
    "# mlflow.set_tracking_uri(\"http://ec2-13-217-3-143.compute-1.amazonaws.com:5000\")\n",
    "\n",
    "# with mlflow.start_run():\n",
    "#     mlflow.log_param(\"param1\", 15)\n",
    "#     mlflow.log_metric(\"metric1\", 0.89)\n"
   ]
  },
  {
   "cell_type": "code",
   "execution_count": 5,
   "id": "9802c7a7",
   "metadata": {},
   "outputs": [
    {
     "data": {
      "text/html": [
       "<div>\n",
       "<style scoped>\n",
       "    .dataframe tbody tr th:only-of-type {\n",
       "        vertical-align: middle;\n",
       "    }\n",
       "\n",
       "    .dataframe tbody tr th {\n",
       "        vertical-align: top;\n",
       "    }\n",
       "\n",
       "    .dataframe thead th {\n",
       "        text-align: right;\n",
       "    }\n",
       "</style>\n",
       "<table border=\"1\" class=\"dataframe\">\n",
       "  <thead>\n",
       "    <tr style=\"text-align: right;\">\n",
       "      <th></th>\n",
       "      <th>clean_comment</th>\n",
       "      <th>category</th>\n",
       "    </tr>\n",
       "  </thead>\n",
       "  <tbody>\n",
       "    <tr>\n",
       "      <th>0</th>\n",
       "      <td>family mormon have never tried explain them t...</td>\n",
       "      <td>1</td>\n",
       "    </tr>\n",
       "    <tr>\n",
       "      <th>1</th>\n",
       "      <td>buddhism has very much lot compatible with chr...</td>\n",
       "      <td>1</td>\n",
       "    </tr>\n",
       "    <tr>\n",
       "      <th>2</th>\n",
       "      <td>seriously don say thing first all they won get...</td>\n",
       "      <td>-1</td>\n",
       "    </tr>\n",
       "    <tr>\n",
       "      <th>3</th>\n",
       "      <td>what you have learned yours and only yours wha...</td>\n",
       "      <td>0</td>\n",
       "    </tr>\n",
       "    <tr>\n",
       "      <th>4</th>\n",
       "      <td>for your own benefit you may want read living ...</td>\n",
       "      <td>1</td>\n",
       "    </tr>\n",
       "  </tbody>\n",
       "</table>\n",
       "</div>"
      ],
      "text/plain": [
       "                                       clean_comment  category\n",
       "0   family mormon have never tried explain them t...         1\n",
       "1  buddhism has very much lot compatible with chr...         1\n",
       "2  seriously don say thing first all they won get...        -1\n",
       "3  what you have learned yours and only yours wha...         0\n",
       "4  for your own benefit you may want read living ...         1"
      ]
     },
     "execution_count": 5,
     "metadata": {},
     "output_type": "execute_result"
    }
   ],
   "source": [
    "data = pd.read_csv(\"https://raw.githubusercontent.com/Himanshu-1703/reddit-sentiment-analysis/refs/heads/main/data/reddit.csv\")\n",
    "data.head()"
   ]
  },
  {
   "cell_type": "code",
   "execution_count": 6,
   "id": "344add79",
   "metadata": {},
   "outputs": [],
   "source": [
    "data.dropna(inplace = True)"
   ]
  },
  {
   "cell_type": "code",
   "execution_count": 7,
   "id": "109c359a",
   "metadata": {},
   "outputs": [],
   "source": [
    "data.drop_duplicates(inplace = True)"
   ]
  },
  {
   "cell_type": "code",
   "execution_count": 8,
   "id": "3ad5c0cc",
   "metadata": {},
   "outputs": [],
   "source": [
    "# removing the rows with white spaces\n",
    "data = data[~(data[\"clean_comment\"].str.strip() == \"\")]"
   ]
  },
  {
   "cell_type": "code",
   "execution_count": 9,
   "id": "4a98eff2",
   "metadata": {},
   "outputs": [
    {
     "name": "stderr",
     "output_type": "stream",
     "text": [
      "[nltk_data] Downloading package stopwords to\n",
      "[nltk_data]     C:\\Users\\henny\\AppData\\Roaming\\nltk_data...\n",
      "[nltk_data]   Package stopwords is already up-to-date!\n",
      "[nltk_data] Downloading package wordnet to\n",
      "[nltk_data]     C:\\Users\\henny\\AppData\\Roaming\\nltk_data...\n",
      "[nltk_data]   Package wordnet is already up-to-date!\n"
     ]
    },
    {
     "data": {
      "text/plain": [
       "True"
      ]
     },
     "execution_count": 9,
     "metadata": {},
     "output_type": "execute_result"
    }
   ],
   "source": [
    "nltk.download('stopwords')\n",
    "nltk.download('wordnet')"
   ]
  },
  {
   "cell_type": "code",
   "execution_count": 10,
   "id": "7c9afa96",
   "metadata": {},
   "outputs": [],
   "source": [
    "def pre_process_comment(comment):\n",
    "    comment = re.sub(r'http\\S+|www\\S+|https\\S+', '', comment, flags=re.MULTILINE)\n",
    "    comment = re.sub(r'\\@\\w+|\\#','', comment)\n",
    "    comment = re.sub(r'[^\\w\\s]', '', comment)\n",
    "    comment = re.sub(r'\\d+', '', comment)\n",
    "    comment = comment.lower()\n",
    "    stop_words = set(stopwords.words('english'))\n",
    "    word_tokens = nltk.word_tokenize(comment)\n",
    "    filtered_comment = [w for w in word_tokens if not w in stop_words]\n",
    "    lemmatizer = WordNetLemmatizer()\n",
    "    lemmatized_comment = [lemmatizer.lemmatize(w) for w in filtered_comment]\n",
    "    return ' '.join(lemmatized_comment) "
   ]
  },
  {
   "cell_type": "code",
   "execution_count": 11,
   "id": "23a99e90",
   "metadata": {},
   "outputs": [],
   "source": [
    "# function to preprocess the comments\n",
    "def pre_process_comment(comment):\n",
    "    # convert to lowercase\n",
    "    comment = comment.lower()\n",
    "\n",
    "    # remove trailing and leading whitespaces\n",
    "    comment = comment.strip()\n",
    "\n",
    "    # remove newline characters\n",
    "    comment = re.sub(r'\\n', ' ', comment)\n",
    "\n",
    "    # remove non-alphanumeric characters, except punctuation\n",
    "    comment = re.sub(r'[^a-zA-Z0-9\\s.,!?\\'\\\"-]', '', comment)\n",
    "\n",
    "    # remove stopwords but retain important words\n",
    "    stop_words = set(stopwords.words('english')) - {'not', 'no', 'nor', 'but', 'however', 'yet'}\n",
    "    comment = ' '.join([word for word in comment.split() if word not in stop_words])\n",
    "\n",
    "    # lemmatize the words\n",
    "    lemmatizer = WordNetLemmatizer()\n",
    "    comment = ' '.join([lemmatizer.lemmatize(word) for word in comment.split()])\n",
    "\n",
    "    return comment"
   ]
  },
  {
   "cell_type": "code",
   "execution_count": 12,
   "id": "d44f27c2",
   "metadata": {},
   "outputs": [],
   "source": [
    "data['clean_comment'] = data['clean_comment'].apply(pre_process_comment)"
   ]
  },
  {
   "cell_type": "code",
   "execution_count": 13,
   "id": "4afb5f7c",
   "metadata": {},
   "outputs": [
    {
     "data": {
      "text/html": [
       "<div>\n",
       "<style scoped>\n",
       "    .dataframe tbody tr th:only-of-type {\n",
       "        vertical-align: middle;\n",
       "    }\n",
       "\n",
       "    .dataframe tbody tr th {\n",
       "        vertical-align: top;\n",
       "    }\n",
       "\n",
       "    .dataframe thead th {\n",
       "        text-align: right;\n",
       "    }\n",
       "</style>\n",
       "<table border=\"1\" class=\"dataframe\">\n",
       "  <thead>\n",
       "    <tr style=\"text-align: right;\">\n",
       "      <th></th>\n",
       "      <th>clean_comment</th>\n",
       "      <th>category</th>\n",
       "    </tr>\n",
       "  </thead>\n",
       "  <tbody>\n",
       "    <tr>\n",
       "      <th>0</th>\n",
       "      <td>family mormon never tried explain still stare ...</td>\n",
       "      <td>1</td>\n",
       "    </tr>\n",
       "    <tr>\n",
       "      <th>1</th>\n",
       "      <td>buddhism much lot compatible christianity espe...</td>\n",
       "      <td>1</td>\n",
       "    </tr>\n",
       "    <tr>\n",
       "      <th>2</th>\n",
       "      <td>seriously say thing first get complex explain ...</td>\n",
       "      <td>-1</td>\n",
       "    </tr>\n",
       "    <tr>\n",
       "      <th>3</th>\n",
       "      <td>learned want teach different focus goal not wr...</td>\n",
       "      <td>0</td>\n",
       "    </tr>\n",
       "    <tr>\n",
       "      <th>4</th>\n",
       "      <td>benefit may want read living buddha living chr...</td>\n",
       "      <td>1</td>\n",
       "    </tr>\n",
       "  </tbody>\n",
       "</table>\n",
       "</div>"
      ],
      "text/plain": [
       "                                       clean_comment  category\n",
       "0  family mormon never tried explain still stare ...         1\n",
       "1  buddhism much lot compatible christianity espe...         1\n",
       "2  seriously say thing first get complex explain ...        -1\n",
       "3  learned want teach different focus goal not wr...         0\n",
       "4  benefit may want read living buddha living chr...         1"
      ]
     },
     "execution_count": 13,
     "metadata": {},
     "output_type": "execute_result"
    }
   ],
   "source": [
    "data.head()"
   ]
  },
  {
   "cell_type": "code",
   "execution_count": 14,
   "id": "5a5c0370",
   "metadata": {},
   "outputs": [],
   "source": [
    "# step 1: vectorize the comments using Bag of Words(CountVectorizer)\n",
    "# Bag of word model with a maximum of 10,000 features\n",
    "vectorizer = CountVectorizer(max_features = 10000)"
   ]
  },
  {
   "cell_type": "code",
   "execution_count": 15,
   "id": "cb28c9e7",
   "metadata": {},
   "outputs": [],
   "source": [
    "x = vectorizer.fit_transform(data['clean_comment']).toarray()\n",
    "y = data['category']"
   ]
  },
  {
   "cell_type": "code",
   "execution_count": 16,
   "id": "1c454191",
   "metadata": {},
   "outputs": [],
   "source": [
    "# step2: set up the MLflow tracking server\n",
    "mlflow.set_tracking_uri(\"http://ec2-54-84-240-136.compute-1.amazonaws.com:5000\")"
   ]
  },
  {
   "cell_type": "code",
   "execution_count": 17,
   "id": "2bff5294",
   "metadata": {},
   "outputs": [
    {
     "data": {
      "text/plain": [
       "<Experiment: artifact_location='s3://youtube-sentiment-analysis/mlflow/653002945017796553', creation_time=1754602388772, experiment_id='653002945017796553', last_update_time=1754602388772, lifecycle_stage='active', name='YouTube-sentiment-analysis', tags={}>"
      ]
     },
     "execution_count": 17,
     "metadata": {},
     "output_type": "execute_result"
    }
   ],
   "source": [
    "# set the experiment name\n",
    "mlflow.set_experiment(\"YouTube-sentiment-analysis\")"
   ]
  },
  {
   "cell_type": "code",
   "execution_count": null,
   "id": "c5e37b99",
   "metadata": {},
   "outputs": [
    {
     "name": "stdout",
     "output_type": "stream",
     "text": [
      "🏃 View run RandomForestBaseModel at: http://ec2-54-84-240-136.compute-1.amazonaws.com:5000/#/experiments/653002945017796553/runs/4090d4a8535d49a29ac37e8d8959d1bf\n",
      "🧪 View experiment at: http://ec2-54-84-240-136.compute-1.amazonaws.com:5000/#/experiments/653002945017796553\n"
     ]
    },
    {
     "ename": "FileNotFoundError",
     "evalue": "[WinError 3] The system cannot find the path specified: '/content/confusion_matrix.png'",
     "output_type": "error",
     "traceback": [
      "\u001b[31m---------------------------------------------------------------------------\u001b[39m",
      "\u001b[31mFileNotFoundError\u001b[39m                         Traceback (most recent call last)",
      "\u001b[36mCell\u001b[39m\u001b[36m \u001b[39m\u001b[32mIn[18]\u001b[39m\u001b[32m, line 53\u001b[39m\n\u001b[32m     51\u001b[39m \u001b[38;5;66;03m# save the confusion matrix plot\u001b[39;00m\n\u001b[32m     52\u001b[39m plt.savefig(\u001b[33m\"\u001b[39m\u001b[33mconfusion_matrix.png\u001b[39m\u001b[33m\"\u001b[39m) \n\u001b[32m---> \u001b[39m\u001b[32m53\u001b[39m \u001b[43mmlflow\u001b[49m\u001b[43m.\u001b[49m\u001b[43mlog_artifact\u001b[49m\u001b[43m(\u001b[49m\u001b[33;43m\"\u001b[39;49m\u001b[33;43m/content/confusion_matrix.png\u001b[39;49m\u001b[33;43m\"\u001b[39;49m\u001b[43m)\u001b[49m\n\u001b[32m     55\u001b[39m \u001b[38;5;66;03m# log the model\u001b[39;00m\n\u001b[32m     56\u001b[39m mlflow.sklearn.log_model(model, \u001b[33m\"\u001b[39m\u001b[33mRandom_Forest_Model\u001b[39m\u001b[33m\"\u001b[39m)\n",
      "\u001b[36mFile \u001b[39m\u001b[32mc:\\Users\\henny\\AppData\\Local\\Programs\\Python\\Python313\\Lib\\site-packages\\mlflow\\tracking\\fluent.py:1427\u001b[39m, in \u001b[36mlog_artifact\u001b[39m\u001b[34m(local_path, artifact_path, run_id)\u001b[39m\n\u001b[32m   1397\u001b[39m \u001b[38;5;250m\u001b[39m\u001b[33;03m\"\"\"\u001b[39;00m\n\u001b[32m   1398\u001b[39m \u001b[33;03mLog a local file or directory as an artifact of the currently active run. If no run is\u001b[39;00m\n\u001b[32m   1399\u001b[39m \u001b[33;03mactive, this method will create a new active run.\u001b[39;00m\n\u001b[32m   (...)\u001b[39m\u001b[32m   1424\u001b[39m \u001b[33;03m            mlflow.log_artifact(path)\u001b[39;00m\n\u001b[32m   1425\u001b[39m \u001b[33;03m\"\"\"\u001b[39;00m\n\u001b[32m   1426\u001b[39m run_id = run_id \u001b[38;5;129;01mor\u001b[39;00m _get_or_start_run().info.run_id\n\u001b[32m-> \u001b[39m\u001b[32m1427\u001b[39m \u001b[43mMlflowClient\u001b[49m\u001b[43m(\u001b[49m\u001b[43m)\u001b[49m\u001b[43m.\u001b[49m\u001b[43mlog_artifact\u001b[49m\u001b[43m(\u001b[49m\u001b[43mrun_id\u001b[49m\u001b[43m,\u001b[49m\u001b[43m \u001b[49m\u001b[43mlocal_path\u001b[49m\u001b[43m,\u001b[49m\u001b[43m \u001b[49m\u001b[43martifact_path\u001b[49m\u001b[43m)\u001b[49m\n",
      "\u001b[36mFile \u001b[39m\u001b[32mc:\\Users\\henny\\AppData\\Local\\Programs\\Python\\Python313\\Lib\\site-packages\\mlflow\\tracking\\client.py:2444\u001b[39m, in \u001b[36mMlflowClient.log_artifact\u001b[39m\u001b[34m(self, run_id, local_path, artifact_path)\u001b[39m\n\u001b[32m   2440\u001b[39m \u001b[38;5;28;01mif\u001b[39;00m run_id.startswith(TRACE_REQUEST_ID_PREFIX):\n\u001b[32m   2441\u001b[39m     \u001b[38;5;28;01mraise\u001b[39;00m MlflowException(\n\u001b[32m   2442\u001b[39m         \u001b[33mf\u001b[39m\u001b[33m\"\u001b[39m\u001b[33mInvalid run id: \u001b[39m\u001b[38;5;132;01m{\u001b[39;00mrun_id\u001b[38;5;132;01m}\u001b[39;00m\u001b[33m. `log_artifact` run id must map to a valid run.\u001b[39m\u001b[33m\"\u001b[39m\n\u001b[32m   2443\u001b[39m     )\n\u001b[32m-> \u001b[39m\u001b[32m2444\u001b[39m \u001b[38;5;28;43mself\u001b[39;49m\u001b[43m.\u001b[49m\u001b[43m_tracking_client\u001b[49m\u001b[43m.\u001b[49m\u001b[43mlog_artifact\u001b[49m\u001b[43m(\u001b[49m\u001b[43mrun_id\u001b[49m\u001b[43m,\u001b[49m\u001b[43m \u001b[49m\u001b[43mlocal_path\u001b[49m\u001b[43m,\u001b[49m\u001b[43m \u001b[49m\u001b[43martifact_path\u001b[49m\u001b[43m)\u001b[49m\n",
      "\u001b[36mFile \u001b[39m\u001b[32mc:\\Users\\henny\\AppData\\Local\\Programs\\Python\\Python313\\Lib\\site-packages\\mlflow\\tracking\\_tracking_service\\client.py:652\u001b[39m, in \u001b[36mTrackingServiceClient.log_artifact\u001b[39m\u001b[34m(self, run_id, local_path, artifact_path)\u001b[39m\n\u001b[32m    650\u001b[39m     artifact_repo.log_artifacts(local_path, path_name)\n\u001b[32m    651\u001b[39m \u001b[38;5;28;01melse\u001b[39;00m:\n\u001b[32m--> \u001b[39m\u001b[32m652\u001b[39m     \u001b[43martifact_repo\u001b[49m\u001b[43m.\u001b[49m\u001b[43mlog_artifact\u001b[49m\u001b[43m(\u001b[49m\u001b[43mlocal_path\u001b[49m\u001b[43m,\u001b[49m\u001b[43m \u001b[49m\u001b[43martifact_path\u001b[49m\u001b[43m)\u001b[49m\n",
      "\u001b[36mFile \u001b[39m\u001b[32mc:\\Users\\henny\\AppData\\Local\\Programs\\Python\\Python313\\Lib\\site-packages\\mlflow\\store\\artifact\\s3_artifact_repo.py:254\u001b[39m, in \u001b[36mS3ArtifactRepository.log_artifact\u001b[39m\u001b[34m(self, local_file, artifact_path)\u001b[39m\n\u001b[32m    252\u001b[39m     dest_path = posixpath.join(dest_path, artifact_path)\n\u001b[32m    253\u001b[39m dest_path = posixpath.join(dest_path, os.path.basename(local_file))\n\u001b[32m--> \u001b[39m\u001b[32m254\u001b[39m \u001b[38;5;28;43mself\u001b[39;49m\u001b[43m.\u001b[49m\u001b[43m_upload_file\u001b[49m\u001b[43m(\u001b[49m\n\u001b[32m    255\u001b[39m \u001b[43m    \u001b[49m\u001b[43ms3_client\u001b[49m\u001b[43m=\u001b[49m\u001b[38;5;28;43mself\u001b[39;49m\u001b[43m.\u001b[49m\u001b[43m_get_s3_client\u001b[49m\u001b[43m(\u001b[49m\u001b[43m)\u001b[49m\u001b[43m,\u001b[49m\u001b[43m \u001b[49m\u001b[43mlocal_file\u001b[49m\u001b[43m=\u001b[49m\u001b[43mlocal_file\u001b[49m\u001b[43m,\u001b[49m\u001b[43m \u001b[49m\u001b[43mbucket\u001b[49m\u001b[43m=\u001b[49m\u001b[43mbucket\u001b[49m\u001b[43m,\u001b[49m\u001b[43m \u001b[49m\u001b[43mkey\u001b[49m\u001b[43m=\u001b[49m\u001b[43mdest_path\u001b[49m\n\u001b[32m    256\u001b[39m \u001b[43m\u001b[49m\u001b[43m)\u001b[49m\n",
      "\u001b[36mFile \u001b[39m\u001b[32mc:\\Users\\henny\\AppData\\Local\\Programs\\Python\\Python313\\Lib\\site-packages\\mlflow\\store\\artifact\\s3_artifact_repo.py:234\u001b[39m, in \u001b[36mS3ArtifactRepository._upload_file\u001b[39m\u001b[34m(self, s3_client, local_file, bucket, key)\u001b[39m\n\u001b[32m    232\u001b[39m \u001b[38;5;28;01mif\u001b[39;00m environ_extra_args \u001b[38;5;129;01mis\u001b[39;00m \u001b[38;5;129;01mnot\u001b[39;00m \u001b[38;5;28;01mNone\u001b[39;00m:\n\u001b[32m    233\u001b[39m     extra_args.update(environ_extra_args)\n\u001b[32m--> \u001b[39m\u001b[32m234\u001b[39m \u001b[43ms3_client\u001b[49m\u001b[43m.\u001b[49m\u001b[43mupload_file\u001b[49m\u001b[43m(\u001b[49m\u001b[43mFilename\u001b[49m\u001b[43m=\u001b[49m\u001b[43mlocal_file\u001b[49m\u001b[43m,\u001b[49m\u001b[43m \u001b[49m\u001b[43mBucket\u001b[49m\u001b[43m=\u001b[49m\u001b[43mbucket\u001b[49m\u001b[43m,\u001b[49m\u001b[43m \u001b[49m\u001b[43mKey\u001b[49m\u001b[43m=\u001b[49m\u001b[43mkey\u001b[49m\u001b[43m,\u001b[49m\u001b[43m \u001b[49m\u001b[43mExtraArgs\u001b[49m\u001b[43m=\u001b[49m\u001b[43mextra_args\u001b[49m\u001b[43m)\u001b[49m\n",
      "\u001b[36mFile \u001b[39m\u001b[32mc:\\Users\\henny\\AppData\\Local\\Programs\\Python\\Python313\\Lib\\site-packages\\botocore\\context.py:123\u001b[39m, in \u001b[36mwith_current_context.<locals>.decorator.<locals>.wrapper\u001b[39m\u001b[34m(*args, **kwargs)\u001b[39m\n\u001b[32m    121\u001b[39m \u001b[38;5;28;01mif\u001b[39;00m hook:\n\u001b[32m    122\u001b[39m     hook()\n\u001b[32m--> \u001b[39m\u001b[32m123\u001b[39m \u001b[38;5;28;01mreturn\u001b[39;00m \u001b[43mfunc\u001b[49m\u001b[43m(\u001b[49m\u001b[43m*\u001b[49m\u001b[43margs\u001b[49m\u001b[43m,\u001b[49m\u001b[43m \u001b[49m\u001b[43m*\u001b[49m\u001b[43m*\u001b[49m\u001b[43mkwargs\u001b[49m\u001b[43m)\u001b[49m\n",
      "\u001b[36mFile \u001b[39m\u001b[32mc:\\Users\\henny\\AppData\\Local\\Programs\\Python\\Python313\\Lib\\site-packages\\boto3\\s3\\inject.py:175\u001b[39m, in \u001b[36mupload_file\u001b[39m\u001b[34m(self, Filename, Bucket, Key, ExtraArgs, Callback, Config)\u001b[39m\n\u001b[32m    140\u001b[39m \u001b[38;5;250m\u001b[39m\u001b[33;03m\"\"\"Upload a file to an S3 object.\u001b[39;00m\n\u001b[32m    141\u001b[39m \n\u001b[32m    142\u001b[39m \u001b[33;03mUsage::\u001b[39;00m\n\u001b[32m   (...)\u001b[39m\u001b[32m    172\u001b[39m \u001b[33;03m    transfer.\u001b[39;00m\n\u001b[32m    173\u001b[39m \u001b[33;03m\"\"\"\u001b[39;00m\n\u001b[32m    174\u001b[39m \u001b[38;5;28;01mwith\u001b[39;00m S3Transfer(\u001b[38;5;28mself\u001b[39m, Config) \u001b[38;5;28;01mas\u001b[39;00m transfer:\n\u001b[32m--> \u001b[39m\u001b[32m175\u001b[39m     \u001b[38;5;28;01mreturn\u001b[39;00m \u001b[43mtransfer\u001b[49m\u001b[43m.\u001b[49m\u001b[43mupload_file\u001b[49m\u001b[43m(\u001b[49m\n\u001b[32m    176\u001b[39m \u001b[43m        \u001b[49m\u001b[43mfilename\u001b[49m\u001b[43m=\u001b[49m\u001b[43mFilename\u001b[49m\u001b[43m,\u001b[49m\n\u001b[32m    177\u001b[39m \u001b[43m        \u001b[49m\u001b[43mbucket\u001b[49m\u001b[43m=\u001b[49m\u001b[43mBucket\u001b[49m\u001b[43m,\u001b[49m\n\u001b[32m    178\u001b[39m \u001b[43m        \u001b[49m\u001b[43mkey\u001b[49m\u001b[43m=\u001b[49m\u001b[43mKey\u001b[49m\u001b[43m,\u001b[49m\n\u001b[32m    179\u001b[39m \u001b[43m        \u001b[49m\u001b[43mextra_args\u001b[49m\u001b[43m=\u001b[49m\u001b[43mExtraArgs\u001b[49m\u001b[43m,\u001b[49m\n\u001b[32m    180\u001b[39m \u001b[43m        \u001b[49m\u001b[43mcallback\u001b[49m\u001b[43m=\u001b[49m\u001b[43mCallback\u001b[49m\u001b[43m,\u001b[49m\n\u001b[32m    181\u001b[39m \u001b[43m    \u001b[49m\u001b[43m)\u001b[49m\n",
      "\u001b[36mFile \u001b[39m\u001b[32mc:\\Users\\henny\\AppData\\Local\\Programs\\Python\\Python313\\Lib\\site-packages\\boto3\\s3\\transfer.py:372\u001b[39m, in \u001b[36mS3Transfer.upload_file\u001b[39m\u001b[34m(self, filename, bucket, key, callback, extra_args)\u001b[39m\n\u001b[32m    368\u001b[39m future = \u001b[38;5;28mself\u001b[39m._manager.upload(\n\u001b[32m    369\u001b[39m     filename, bucket, key, extra_args, subscribers\n\u001b[32m    370\u001b[39m )\n\u001b[32m    371\u001b[39m \u001b[38;5;28;01mtry\u001b[39;00m:\n\u001b[32m--> \u001b[39m\u001b[32m372\u001b[39m     \u001b[43mfuture\u001b[49m\u001b[43m.\u001b[49m\u001b[43mresult\u001b[49m\u001b[43m(\u001b[49m\u001b[43m)\u001b[49m\n\u001b[32m    373\u001b[39m \u001b[38;5;66;03m# If a client error was raised, add the backwards compatibility layer\u001b[39;00m\n\u001b[32m    374\u001b[39m \u001b[38;5;66;03m# that raises a S3UploadFailedError. These specific errors were only\u001b[39;00m\n\u001b[32m    375\u001b[39m \u001b[38;5;66;03m# ever thrown for upload_parts but now can be thrown for any related\u001b[39;00m\n\u001b[32m    376\u001b[39m \u001b[38;5;66;03m# client error.\u001b[39;00m\n\u001b[32m    377\u001b[39m \u001b[38;5;28;01mexcept\u001b[39;00m ClientError \u001b[38;5;28;01mas\u001b[39;00m e:\n",
      "\u001b[36mFile \u001b[39m\u001b[32mc:\\Users\\henny\\AppData\\Local\\Programs\\Python\\Python313\\Lib\\site-packages\\s3transfer\\futures.py:111\u001b[39m, in \u001b[36mTransferFuture.result\u001b[39m\u001b[34m(self)\u001b[39m\n\u001b[32m    106\u001b[39m \u001b[38;5;28;01mdef\u001b[39;00m\u001b[38;5;250m \u001b[39m\u001b[34mresult\u001b[39m(\u001b[38;5;28mself\u001b[39m):\n\u001b[32m    107\u001b[39m     \u001b[38;5;28;01mtry\u001b[39;00m:\n\u001b[32m    108\u001b[39m         \u001b[38;5;66;03m# Usually the result() method blocks until the transfer is done,\u001b[39;00m\n\u001b[32m    109\u001b[39m         \u001b[38;5;66;03m# however if a KeyboardInterrupt is raised we want want to exit\u001b[39;00m\n\u001b[32m    110\u001b[39m         \u001b[38;5;66;03m# out of this and propagate the exception.\u001b[39;00m\n\u001b[32m--> \u001b[39m\u001b[32m111\u001b[39m         \u001b[38;5;28;01mreturn\u001b[39;00m \u001b[38;5;28;43mself\u001b[39;49m\u001b[43m.\u001b[49m\u001b[43m_coordinator\u001b[49m\u001b[43m.\u001b[49m\u001b[43mresult\u001b[49m\u001b[43m(\u001b[49m\u001b[43m)\u001b[49m\n\u001b[32m    112\u001b[39m     \u001b[38;5;28;01mexcept\u001b[39;00m \u001b[38;5;167;01mKeyboardInterrupt\u001b[39;00m \u001b[38;5;28;01mas\u001b[39;00m e:\n\u001b[32m    113\u001b[39m         \u001b[38;5;28mself\u001b[39m.cancel()\n",
      "\u001b[36mFile \u001b[39m\u001b[32mc:\\Users\\henny\\AppData\\Local\\Programs\\Python\\Python313\\Lib\\site-packages\\s3transfer\\futures.py:287\u001b[39m, in \u001b[36mTransferCoordinator.result\u001b[39m\u001b[34m(self)\u001b[39m\n\u001b[32m    284\u001b[39m \u001b[38;5;66;03m# Once done waiting, raise an exception if present or return the\u001b[39;00m\n\u001b[32m    285\u001b[39m \u001b[38;5;66;03m# final result.\u001b[39;00m\n\u001b[32m    286\u001b[39m \u001b[38;5;28;01mif\u001b[39;00m \u001b[38;5;28mself\u001b[39m._exception:\n\u001b[32m--> \u001b[39m\u001b[32m287\u001b[39m     \u001b[38;5;28;01mraise\u001b[39;00m \u001b[38;5;28mself\u001b[39m._exception\n\u001b[32m    288\u001b[39m \u001b[38;5;28;01mreturn\u001b[39;00m \u001b[38;5;28mself\u001b[39m._result\n",
      "\u001b[36mFile \u001b[39m\u001b[32mc:\\Users\\henny\\AppData\\Local\\Programs\\Python\\Python313\\Lib\\site-packages\\s3transfer\\tasks.py:272\u001b[39m, in \u001b[36mSubmissionTask._main\u001b[39m\u001b[34m(self, transfer_future, **kwargs)\u001b[39m\n\u001b[32m    268\u001b[39m     \u001b[38;5;28mself\u001b[39m._transfer_coordinator.set_status_to_running()\n\u001b[32m    270\u001b[39m     \u001b[38;5;66;03m# Call the submit method to start submitting tasks to execute the\u001b[39;00m\n\u001b[32m    271\u001b[39m     \u001b[38;5;66;03m# transfer.\u001b[39;00m\n\u001b[32m--> \u001b[39m\u001b[32m272\u001b[39m     \u001b[38;5;28;43mself\u001b[39;49m\u001b[43m.\u001b[49m\u001b[43m_submit\u001b[49m\u001b[43m(\u001b[49m\u001b[43mtransfer_future\u001b[49m\u001b[43m=\u001b[49m\u001b[43mtransfer_future\u001b[49m\u001b[43m,\u001b[49m\u001b[43m \u001b[49m\u001b[43m*\u001b[49m\u001b[43m*\u001b[49m\u001b[43mkwargs\u001b[49m\u001b[43m)\u001b[49m\n\u001b[32m    273\u001b[39m \u001b[38;5;28;01mexcept\u001b[39;00m \u001b[38;5;167;01mBaseException\u001b[39;00m \u001b[38;5;28;01mas\u001b[39;00m e:\n\u001b[32m    274\u001b[39m     \u001b[38;5;66;03m# If there was an exception raised during the submission of task\u001b[39;00m\n\u001b[32m    275\u001b[39m     \u001b[38;5;66;03m# there is a chance that the final task that signals if a transfer\u001b[39;00m\n\u001b[32m   (...)\u001b[39m\u001b[32m    284\u001b[39m \n\u001b[32m    285\u001b[39m     \u001b[38;5;66;03m# Set the exception, that caused the process to fail.\u001b[39;00m\n\u001b[32m    286\u001b[39m     \u001b[38;5;28mself\u001b[39m._log_and_set_exception(e)\n",
      "\u001b[36mFile \u001b[39m\u001b[32mc:\\Users\\henny\\AppData\\Local\\Programs\\Python\\Python313\\Lib\\site-packages\\s3transfer\\upload.py:596\u001b[39m, in \u001b[36mUploadSubmissionTask._submit\u001b[39m\u001b[34m(self, client, config, osutil, request_executor, transfer_future, bandwidth_limiter)\u001b[39m\n\u001b[32m    594\u001b[39m \u001b[38;5;66;03m# Determine the size if it was not provided\u001b[39;00m\n\u001b[32m    595\u001b[39m \u001b[38;5;28;01mif\u001b[39;00m transfer_future.meta.size \u001b[38;5;129;01mis\u001b[39;00m \u001b[38;5;28;01mNone\u001b[39;00m:\n\u001b[32m--> \u001b[39m\u001b[32m596\u001b[39m     \u001b[43mupload_input_manager\u001b[49m\u001b[43m.\u001b[49m\u001b[43mprovide_transfer_size\u001b[49m\u001b[43m(\u001b[49m\u001b[43mtransfer_future\u001b[49m\u001b[43m)\u001b[49m\n\u001b[32m    598\u001b[39m \u001b[38;5;66;03m# Do a multipart upload if needed, otherwise do a regular put object.\u001b[39;00m\n\u001b[32m    599\u001b[39m \u001b[38;5;28;01mif\u001b[39;00m \u001b[38;5;129;01mnot\u001b[39;00m upload_input_manager.requires_multipart_upload(\n\u001b[32m    600\u001b[39m     transfer_future, config\n\u001b[32m    601\u001b[39m ):\n",
      "\u001b[36mFile \u001b[39m\u001b[32mc:\\Users\\henny\\AppData\\Local\\Programs\\Python\\Python313\\Lib\\site-packages\\s3transfer\\upload.py:245\u001b[39m, in \u001b[36mUploadFilenameInputManager.provide_transfer_size\u001b[39m\u001b[34m(self, transfer_future)\u001b[39m\n\u001b[32m    243\u001b[39m \u001b[38;5;28;01mdef\u001b[39;00m\u001b[38;5;250m \u001b[39m\u001b[34mprovide_transfer_size\u001b[39m(\u001b[38;5;28mself\u001b[39m, transfer_future):\n\u001b[32m    244\u001b[39m     transfer_future.meta.provide_transfer_size(\n\u001b[32m--> \u001b[39m\u001b[32m245\u001b[39m         \u001b[38;5;28;43mself\u001b[39;49m\u001b[43m.\u001b[49m\u001b[43m_osutil\u001b[49m\u001b[43m.\u001b[49m\u001b[43mget_file_size\u001b[49m\u001b[43m(\u001b[49m\u001b[43mtransfer_future\u001b[49m\u001b[43m.\u001b[49m\u001b[43mmeta\u001b[49m\u001b[43m.\u001b[49m\u001b[43mcall_args\u001b[49m\u001b[43m.\u001b[49m\u001b[43mfileobj\u001b[49m\u001b[43m)\u001b[49m\n\u001b[32m    246\u001b[39m     )\n",
      "\u001b[36mFile \u001b[39m\u001b[32mc:\\Users\\henny\\AppData\\Local\\Programs\\Python\\Python313\\Lib\\site-packages\\s3transfer\\utils.py:262\u001b[39m, in \u001b[36mOSUtils.get_file_size\u001b[39m\u001b[34m(self, filename)\u001b[39m\n\u001b[32m    261\u001b[39m \u001b[38;5;28;01mdef\u001b[39;00m\u001b[38;5;250m \u001b[39m\u001b[34mget_file_size\u001b[39m(\u001b[38;5;28mself\u001b[39m, filename):\n\u001b[32m--> \u001b[39m\u001b[32m262\u001b[39m     \u001b[38;5;28;01mreturn\u001b[39;00m \u001b[43mos\u001b[49m\u001b[43m.\u001b[49m\u001b[43mpath\u001b[49m\u001b[43m.\u001b[49m\u001b[43mgetsize\u001b[49m\u001b[43m(\u001b[49m\u001b[43mfilename\u001b[49m\u001b[43m)\u001b[49m\n",
      "\u001b[36mFile \u001b[39m\u001b[32m<frozen genericpath>:86\u001b[39m, in \u001b[36mgetsize\u001b[39m\u001b[34m(filename)\u001b[39m\n",
      "\u001b[31mFileNotFoundError\u001b[39m: [WinError 3] The system cannot find the path specified: '/content/confusion_matrix.png'"
     ]
    },
    {
     "data": {
      "image/png": "[encoded data removed]",
      "text/plain": [
       "<Figure size 1000x700 with 2 Axes>"
      ]
     },
     "metadata": {},
     "output_type": "display_data"
    }
   ],
   "source": [
    "# split the data into training and testing sets\n",
    "x_train, x_test, y_train, y_test = train_test_split(x, y, test_size=0.2, random_state=42, stratify=y)\n",
    "\n",
    "# Define and train Random Forest base model \n",
    "with mlflow.start_run() as run:\n",
    "    # log a description of the run\n",
    "    mlflow.set_tag(\"mlflow.runName\", \"RandomForestBaseModel\")\n",
    "    mlflow.set_tag(\"experiment type\", \"base model\")\n",
    "    mlflow.set_tag(\"model type\", \"Random Forest\")\n",
    "\n",
    "    # add a description of the run\n",
    "    mlflow.set_tag(\"description\", \"This is a random forest base model for YouTube comment sentiment analysis using bag of words vectorization.\")\n",
    "\n",
    "    # log parameter for vectorizer\n",
    "    mlflow.log_param(\"vectorizer_type\", \"CountVectorizer\")\n",
    "    mlflow.log_param(\"vectorizer_max_features\", vectorizer.max_features)\n",
    "    \n",
    "    # log Random Forest parameters\n",
    "    n_estimators = 200\n",
    "    max_depth = 15\n",
    "\n",
    "    mlflow.log_param(\"n_estimators\", n_estimators)\n",
    "    mlflow.log_param(\"max_depth\", max_depth)    \n",
    "\n",
    "    # train the model\n",
    "    model = RandomForestClassifier(n_estimators=n_estimators, max_depth=max_depth, random_state=42)\n",
    "    model.fit(x_train, y_train)\n",
    "\n",
    "    # make predictions on the test set\n",
    "    y_pred = model.predict(x_test)\n",
    "\n",
    "    # log metrics for each class and accuracy\n",
    "    accuracy = accuracy_score(y_test, y_pred)\n",
    "    mlflow.log_metric(\"accuracy\", accuracy)\n",
    "\n",
    "    class_report = classification_report(y_test, y_pred, output_dict=True)\n",
    "    for label, metrics in class_report.items():\n",
    "        if isinstance(metrics, dict):\n",
    "            for metric, value in metrics.items():\n",
    "                mlflow.log_metric(f\"{label}_{metric}\", value)\n",
    "            \n",
    "    \n",
    "    # confusion_matrix plot\n",
    "    cm = confusion_matrix(y_test, y_pred)\n",
    "    plt.figure(figsize=(10, 7)) \n",
    "    sns.heatmap(cm, annot = True, fmt = 'd', cmap = 'Blues')\n",
    "    plt.xlabel('Predicted')\n",
    "    plt.ylabel('Actual')\n",
    "    plt.title('Confusion Matrix')\n",
    "\n",
    "    # save the confusion matrix plot\n",
    "    plt.savefig(\"confusion_matrix.png\") \n",
    "    mlflow.log_artifact(\"confusion_matrix.png\")\n",
    "\n",
    "    # log the model\n",
    "    mlflow.sklearn.log_model(model, \"Random_Forest_Model\")\n",
    "\n",
    "    # Optionally, log the dataset (if it small)\n",
    "    data.to_csv(\"data.csv\", index=False)\n",
    "    mlflow.log_artifact(\"data.csv\")\n",
    "\n",
    "\n",
    "# Display final accuracy\n",
    "print(f\"Accuracy: {accuracy}\")"
   ]
  },
  {
   "cell_type": "code",
   "execution_count": null,
   "id": "595b9169",
   "metadata": {},
   "outputs": [],
   "source": []
  }
 ],
 "metadata": {
  "kernelspec": {
   "display_name": "Python 3",
   "language": "python",
   "name": "python3"
  },
  "language_info": {
   "codemirror_mode": {
    "name": "ipython",
    "version": 3
   },
   "file_extension": ".py",
   "mimetype": "text/x-python",
   "name": "python",
   "nbconvert_exporter": "python",
   "pygments_lexer": "ipython3",
   "version": "3.13.5"
  }
 },
 "nbformat": 4,
 "nbformat_minor": 5
}
