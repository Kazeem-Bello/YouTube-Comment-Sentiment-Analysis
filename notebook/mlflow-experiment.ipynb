{
 "cells": [
  {
   "cell_type": "code",
   "execution_count": 33,
   "id": "67c1b93e",
   "metadata": {},
   "outputs": [],
   "source": [
    "# mlflow test\n",
    "\n",
    "import mlflow\n",
    "import numpy as np\n",
    "import pandas as pd\n",
    "import warnings\n",
    "warnings.filterwarnings('ignore')\n",
    "import seaborn as sns\n",
    "import matplotlib.pyplot as plt\n",
    "from nltk.corpus import stopwords\n",
    "from nltk.stem import WordNetLemmatizer \n",
    "import nltk\n",
    "from collections import Counter\n",
    "from sklearn.feature_extraction.text import CountVectorizer,TfidfVectorizer \n",
    "import re\n",
    "from wordcloud import WordCloud \n",
    "import mlflow.sklearn\n",
    "from sklearn.model_selection import train_test_split, cross_val_predict, StratifiedKFold\n",
    "from sklearn.metrics import accuracy_score, confusion_matrix, classification_report\n",
    "from sklearn.ensemble import RandomForestClassifier"
   ]
  },
  {
   "cell_type": "code",
   "execution_count": 3,
   "id": "55f4b2a6",
   "metadata": {},
   "outputs": [],
   "source": [
    "# mlflow.set_tracking_uri(\"http://ec2-13-217-3-143.compute-1.amazonaws.com:5000\")\n",
    "\n",
    "# with mlflow.start_run():\n",
    "#     mlflow.log_param(\"param1\", 15)\n",
    "#     mlflow.log_metric(\"metric1\", 0.89)\n"
   ]
  },
  {
   "cell_type": "code",
   "execution_count": 4,
   "id": "9802c7a7",
   "metadata": {},
   "outputs": [
    {
     "data": {
      "text/html": [
       "<div>\n",
       "<style scoped>\n",
       "    .dataframe tbody tr th:only-of-type {\n",
       "        vertical-align: middle;\n",
       "    }\n",
       "\n",
       "    .dataframe tbody tr th {\n",
       "        vertical-align: top;\n",
       "    }\n",
       "\n",
       "    .dataframe thead th {\n",
       "        text-align: right;\n",
       "    }\n",
       "</style>\n",
       "<table border=\"1\" class=\"dataframe\">\n",
       "  <thead>\n",
       "    <tr style=\"text-align: right;\">\n",
       "      <th></th>\n",
       "      <th>clean_comment</th>\n",
       "      <th>category</th>\n",
       "    </tr>\n",
       "  </thead>\n",
       "  <tbody>\n",
       "    <tr>\n",
       "      <th>0</th>\n",
       "      <td>family mormon have never tried explain them t...</td>\n",
       "      <td>1</td>\n",
       "    </tr>\n",
       "    <tr>\n",
       "      <th>1</th>\n",
       "      <td>buddhism has very much lot compatible with chr...</td>\n",
       "      <td>1</td>\n",
       "    </tr>\n",
       "    <tr>\n",
       "      <th>2</th>\n",
       "      <td>seriously don say thing first all they won get...</td>\n",
       "      <td>-1</td>\n",
       "    </tr>\n",
       "    <tr>\n",
       "      <th>3</th>\n",
       "      <td>what you have learned yours and only yours wha...</td>\n",
       "      <td>0</td>\n",
       "    </tr>\n",
       "    <tr>\n",
       "      <th>4</th>\n",
       "      <td>for your own benefit you may want read living ...</td>\n",
       "      <td>1</td>\n",
       "    </tr>\n",
       "  </tbody>\n",
       "</table>\n",
       "</div>"
      ],
      "text/plain": [
       "                                       clean_comment  category\n",
       "0   family mormon have never tried explain them t...         1\n",
       "1  buddhism has very much lot compatible with chr...         1\n",
       "2  seriously don say thing first all they won get...        -1\n",
       "3  what you have learned yours and only yours wha...         0\n",
       "4  for your own benefit you may want read living ...         1"
      ]
     },
     "execution_count": 4,
     "metadata": {},
     "output_type": "execute_result"
    }
   ],
   "source": [
    "data = pd.read_csv(\"https://raw.githubusercontent.com/Himanshu-1703/reddit-sentiment-analysis/refs/heads/main/data/reddit.csv\")\n",
    "data.head()"
   ]
  },
  {
   "cell_type": "code",
   "execution_count": 5,
   "id": "344add79",
   "metadata": {},
   "outputs": [],
   "source": [
    "data.dropna(inplace = True)"
   ]
  },
  {
   "cell_type": "code",
   "execution_count": 6,
   "id": "109c359a",
   "metadata": {},
   "outputs": [],
   "source": [
    "data.drop_duplicates(inplace = True)"
   ]
  },
  {
   "cell_type": "code",
   "execution_count": 7,
   "id": "3ad5c0cc",
   "metadata": {},
   "outputs": [],
   "source": [
    "# removing the rows with white spaces\n",
    "data = data[~(data[\"clean_comment\"].str.strip() == \"\")]"
   ]
  },
  {
   "cell_type": "code",
   "execution_count": 8,
   "id": "4a98eff2",
   "metadata": {},
   "outputs": [
    {
     "name": "stderr",
     "output_type": "stream",
     "text": [
      "[nltk_data] Downloading package stopwords to\n",
      "[nltk_data]     /Users/enitan/nltk_data...\n",
      "[nltk_data]   Package stopwords is already up-to-date!\n",
      "[nltk_data] Downloading package wordnet to /Users/enitan/nltk_data...\n",
      "[nltk_data]   Package wordnet is already up-to-date!\n"
     ]
    },
    {
     "data": {
      "text/plain": [
       "True"
      ]
     },
     "execution_count": 8,
     "metadata": {},
     "output_type": "execute_result"
    }
   ],
   "source": [
    "nltk.download('stopwords')\n",
    "nltk.download('wordnet')"
   ]
  },
  {
   "cell_type": "code",
   "execution_count": 9,
   "id": "7c9afa96",
   "metadata": {},
   "outputs": [],
   "source": [
    "def pre_process_comment(comment):\n",
    "    comment = re.sub(r'http\\S+|www\\S+|https\\S+', '', comment, flags=re.MULTILINE)\n",
    "    comment = re.sub(r'\\@\\w+|\\#','', comment)\n",
    "    comment = re.sub(r'[^\\w\\s]', '', comment)\n",
    "    comment = re.sub(r'\\d+', '', comment)\n",
    "    comment = comment.lower()\n",
    "    stop_words = set(stopwords.words('english'))\n",
    "    word_tokens = nltk.word_tokenize(comment)\n",
    "    filtered_comment = [w for w in word_tokens if not w in stop_words]\n",
    "    lemmatizer = WordNetLemmatizer()\n",
    "    lemmatized_comment = [lemmatizer.lemmatize(w) for w in filtered_comment]\n",
    "    return ' '.join(lemmatized_comment) "
   ]
  },
  {
   "cell_type": "code",
   "execution_count": 10,
   "id": "23a99e90",
   "metadata": {},
   "outputs": [],
   "source": [
    "# function to preprocess the comments\n",
    "def pre_process_comment(comment):\n",
    "    # convert to lowercase\n",
    "    comment = comment.lower()\n",
    "\n",
    "    # remove trailing and leading whitespaces\n",
    "    comment = comment.strip()\n",
    "\n",
    "    # remove newline characters\n",
    "    comment = re.sub(r'\\n', ' ', comment)\n",
    "\n",
    "    # remove non-alphanumeric characters, except punctuation\n",
    "    comment = re.sub(r'[^a-zA-Z0-9\\s.,!?\\'\\\"-]', '', comment)\n",
    "\n",
    "    # remove stopwords but retain important words\n",
    "    stop_words = set(stopwords.words('english')) - {'not', 'no', 'nor', 'but', 'however', 'yet'}\n",
    "    comment = ' '.join([word for word in comment.split() if word not in stop_words])\n",
    "\n",
    "    # lemmatize the words\n",
    "    lemmatizer = WordNetLemmatizer()\n",
    "    comment = ' '.join([lemmatizer.lemmatize(word) for word in comment.split()])\n",
    "\n",
    "    return comment"
   ]
  },
  {
   "cell_type": "code",
   "execution_count": 11,
   "id": "d44f27c2",
   "metadata": {},
   "outputs": [],
   "source": [
    "data['clean_comment'] = data['clean_comment'].apply(pre_process_comment)"
   ]
  },
  {
   "cell_type": "code",
   "execution_count": 12,
   "id": "4afb5f7c",
   "metadata": {},
   "outputs": [
    {
     "data": {
      "text/html": [
       "<div>\n",
       "<style scoped>\n",
       "    .dataframe tbody tr th:only-of-type {\n",
       "        vertical-align: middle;\n",
       "    }\n",
       "\n",
       "    .dataframe tbody tr th {\n",
       "        vertical-align: top;\n",
       "    }\n",
       "\n",
       "    .dataframe thead th {\n",
       "        text-align: right;\n",
       "    }\n",
       "</style>\n",
       "<table border=\"1\" class=\"dataframe\">\n",
       "  <thead>\n",
       "    <tr style=\"text-align: right;\">\n",
       "      <th></th>\n",
       "      <th>clean_comment</th>\n",
       "      <th>category</th>\n",
       "    </tr>\n",
       "  </thead>\n",
       "  <tbody>\n",
       "    <tr>\n",
       "      <th>0</th>\n",
       "      <td>family mormon never tried explain still stare ...</td>\n",
       "      <td>1</td>\n",
       "    </tr>\n",
       "    <tr>\n",
       "      <th>1</th>\n",
       "      <td>buddhism much lot compatible christianity espe...</td>\n",
       "      <td>1</td>\n",
       "    </tr>\n",
       "    <tr>\n",
       "      <th>2</th>\n",
       "      <td>seriously say thing first get complex explain ...</td>\n",
       "      <td>-1</td>\n",
       "    </tr>\n",
       "    <tr>\n",
       "      <th>3</th>\n",
       "      <td>learned want teach different focus goal not wr...</td>\n",
       "      <td>0</td>\n",
       "    </tr>\n",
       "    <tr>\n",
       "      <th>4</th>\n",
       "      <td>benefit may want read living buddha living chr...</td>\n",
       "      <td>1</td>\n",
       "    </tr>\n",
       "  </tbody>\n",
       "</table>\n",
       "</div>"
      ],
      "text/plain": [
       "                                       clean_comment  category\n",
       "0  family mormon never tried explain still stare ...         1\n",
       "1  buddhism much lot compatible christianity espe...         1\n",
       "2  seriously say thing first get complex explain ...        -1\n",
       "3  learned want teach different focus goal not wr...         0\n",
       "4  benefit may want read living buddha living chr...         1"
      ]
     },
     "execution_count": 12,
     "metadata": {},
     "output_type": "execute_result"
    }
   ],
   "source": [
    "data.head()"
   ]
  },
  {
   "cell_type": "code",
   "execution_count": 13,
   "id": "5a5c0370",
   "metadata": {},
   "outputs": [],
   "source": [
    "# step 1: vectorize the comments using Bag of Words(CountVectorizer)\n",
    "# Bag of word model with a maximum of 10,000 features\n",
    "vectorizer = CountVectorizer(max_features = 10000)"
   ]
  },
  {
   "cell_type": "code",
   "execution_count": 14,
   "id": "cb28c9e7",
   "metadata": {},
   "outputs": [],
   "source": [
    "x = vectorizer.fit_transform(data['clean_comment']).toarray()\n",
    "y = data['category']"
   ]
  },
  {
   "cell_type": "code",
   "execution_count": 44,
   "id": "1c454191",
   "metadata": {},
   "outputs": [],
   "source": [
    "# step2: set up the MLflow tracking server\n",
    "mlflow.set_tracking_uri(\"http://ec2-13-48-70-156.eu-north-1.compute.amazonaws.com:5000\")"
   ]
  },
  {
   "cell_type": "code",
   "execution_count": 18,
   "id": "2bff5294",
   "metadata": {},
   "outputs": [
    {
     "name": "stderr",
     "output_type": "stream",
     "text": [
      "2025/08/28 22:29:53 INFO mlflow.tracking.fluent: Experiment with name 'YouTube-sentiment-analysis' does not exist. Creating a new experiment.\n"
     ]
    },
    {
     "data": {
      "text/plain": [
       "<Experiment: artifact_location='s3://youtube-sentiment-analysis/174154877250324072', creation_time=1756416593628, experiment_id='174154877250324072', last_update_time=1756416593628, lifecycle_stage='active', name='YouTube-sentiment-analysis', tags={}>"
      ]
     },
     "execution_count": 18,
     "metadata": {},
     "output_type": "execute_result"
    }
   ],
   "source": [
    "# set the experiment name\n",
    "mlflow.set_experiment(\"YouTube-sentiment-analysis\")"
   ]
  },
  {
   "cell_type": "code",
   "execution_count": 23,
   "id": "c5e37b99",
   "metadata": {},
   "outputs": [
    {
     "name": "stderr",
     "output_type": "stream",
     "text": [
      "2025/08/28 22:35:23 WARNING mlflow.models.model: `artifact_path` is deprecated. Please use `name` instead.\n",
      "\u001b[31m2025/08/28 22:35:28 WARNING mlflow.models.model: Model logged without a signature and input example. Please set `input_example` parameter when logging the model to auto infer the model signature.\u001b[0m\n"
     ]
    },
    {
     "name": "stdout",
     "output_type": "stream",
     "text": [
      "🏃 View run RandomForestBaseModel at: http://ec2-13-51-171-250.eu-north-1.compute.amazonaws.com:5000/#/experiments/174154877250324072/runs/7990edae8e4749b0a5c56cc3379b2018\n",
      "🧪 View experiment at: http://ec2-13-51-171-250.eu-north-1.compute.amazonaws.com:5000/#/experiments/174154877250324072\n",
      "Accuracy: 0.6484576708791956\n"
     ]
    },
    {
     "data": {
      "image/png": "[encoded data removed]",
      "text/plain": [
       "<Figure size 1000x700 with 2 Axes>"
      ]
     },
     "metadata": {},
     "output_type": "display_data"
    }
   ],
   "source": [
    "# split the data into training and testing sets\n",
    "x_train, x_test, y_train, y_test = train_test_split(x, y, test_size=0.2, random_state=42, stratify=y)\n",
    "\n",
    "# Define and train Random Forest base model \n",
    "with mlflow.start_run() as run:\n",
    "    # log a description of the run\n",
    "    mlflow.set_tag(\"mlflow.runName\", \"RandomForestBaseModel\")\n",
    "    mlflow.set_tag(\"experiment type\", \"base model\")\n",
    "    mlflow.set_tag(\"model type\", \"Random Forest\")\n",
    "\n",
    "    # add a description of the run\n",
    "    mlflow.set_tag(\"description\", \"This is a random forest base model for YouTube comment sentiment analysis using bag of words vectorization.\")\n",
    "\n",
    "    # log parameter for vectorizer\n",
    "    mlflow.log_param(\"vectorizer_type\", \"CountVectorizer\")\n",
    "    mlflow.log_param(\"vectorizer_max_features\", vectorizer.max_features)\n",
    "    \n",
    "    # log Random Forest parameters\n",
    "    n_estimators = 200\n",
    "    max_depth = 15\n",
    "\n",
    "    mlflow.log_param(\"n_estimators\", n_estimators)\n",
    "    mlflow.log_param(\"max_depth\", max_depth)    \n",
    "\n",
    "    # train the model\n",
    "    model = RandomForestClassifier(n_estimators=n_estimators, max_depth=max_depth, random_state=42)\n",
    "    model.fit(x_train, y_train)\n",
    "\n",
    "    # make predictions on the test set\n",
    "    y_pred = model.predict(x_test)\n",
    "\n",
    "    # log metrics for each class and accuracy\n",
    "    accuracy = accuracy_score(y_test, y_pred)\n",
    "    mlflow.log_metric(\"accuracy\", accuracy)\n",
    "\n",
    "    class_report = classification_report(y_test, y_pred, output_dict=True)\n",
    "    for label, metrics in class_report.items():\n",
    "        if isinstance(metrics, dict):\n",
    "            for metric, value in metrics.items():\n",
    "                mlflow.log_metric(f\"{label}_{metric}\", value)\n",
    "            \n",
    "    \n",
    "    # confusion_matrix plot\n",
    "    cm = confusion_matrix(y_test, y_pred)\n",
    "    plt.figure(figsize=(10, 7)) \n",
    "    sns.heatmap(cm, annot = True, fmt = 'd', cmap = 'Blues')\n",
    "    plt.xlabel('Predicted')\n",
    "    plt.ylabel('Actual')\n",
    "    plt.title('Confusion Matrix')\n",
    "\n",
    "    # save the confusion matrix plot\n",
    "    plt.savefig(\"confusion_matrix.png\") \n",
    "    mlflow.log_artifact(\"confusion_matrix.png\")\n",
    "\n",
    "    # log the model\n",
    "    mlflow.sklearn.log_model(model, \"Random_Forest_Model\")\n",
    "\n",
    "    # Optionally, log the dataset (if it small)\n",
    "    data.to_csv(\"data.csv\", index=False)\n",
    "    mlflow.log_artifact(\"data.csv\")\n",
    "\n",
    "\n",
    "# Display final accuracy\n",
    "print(f\"Accuracy: {accuracy}\")"
   ]
  },
  {
   "cell_type": "markdown",
   "id": "f4d68484",
   "metadata": {},
   "source": [
    "#### 2. Second Experiment- Tunning the the type of vectorizer"
   ]
  },
  {
   "cell_type": "code",
   "execution_count": 45,
   "id": "c0e49c3a",
   "metadata": {},
   "outputs": [
    {
     "data": {
      "text/plain": [
       "<Experiment: artifact_location='s3://youtube-sentiment-analysis/185191310476379778', creation_time=1756418601696, experiment_id='185191310476379778', last_update_time=1756418601696, lifecycle_stage='active', name='Exp2- BOW- Tfidf', tags={}>"
      ]
     },
     "execution_count": 45,
     "metadata": {},
     "output_type": "execute_result"
    }
   ],
   "source": [
    "# set a second experiment\n",
    "mlflow.set_experiment(\"Exp2- BOW- Tfidf\")"
   ]
  },
  {
   "cell_type": "code",
   "execution_count": null,
   "id": "a241bd4f",
   "metadata": {},
   "outputs": [
    {
     "name": "stderr",
     "output_type": "stream",
     "text": [
      "2025/08/29 01:40:35 WARNING mlflow.models.model: `artifact_path` is deprecated. Please use `name` instead.\n",
      "\u001b[31m2025/08/29 01:40:40 WARNING mlflow.models.model: Model logged without a signature and input example. Please set `input_example` parameter when logging the model to auto infer the model signature.\u001b[0m\n"
     ]
    },
    {
     "name": "stdout",
     "output_type": "stream",
     "text": [
      "🏃 View run Bow_(1, 1)_Random_Forest at: http://ec2-13-48-70-156.eu-north-1.compute.amazonaws.com:5000/#/experiments/185191310476379778/runs/4524fa8946bc47569703b822bbee7b70\n",
      "🧪 View experiment at: http://ec2-13-48-70-156.eu-north-1.compute.amazonaws.com:5000/#/experiments/185191310476379778\n"
     ]
    },
    {
     "name": "stderr",
     "output_type": "stream",
     "text": [
      "2025/08/29 01:40:53 WARNING mlflow.models.model: `artifact_path` is deprecated. Please use `name` instead.\n",
      "\u001b[31m2025/08/29 01:40:57 WARNING mlflow.models.model: Model logged without a signature and input example. Please set `input_example` parameter when logging the model to auto infer the model signature.\u001b[0m\n"
     ]
    },
    {
     "name": "stdout",
     "output_type": "stream",
     "text": [
      "🏃 View run TR-IDF_(1, 1)_Random_Forest at: http://ec2-13-48-70-156.eu-north-1.compute.amazonaws.com:5000/#/experiments/185191310476379778/runs/5bf36457b078441eacbdb2ecb88a4de4\n",
      "🧪 View experiment at: http://ec2-13-48-70-156.eu-north-1.compute.amazonaws.com:5000/#/experiments/185191310476379778\n"
     ]
    },
    {
     "name": "stderr",
     "output_type": "stream",
     "text": [
      "2025/08/29 01:41:12 WARNING mlflow.models.model: `artifact_path` is deprecated. Please use `name` instead.\n",
      "\u001b[31m2025/08/29 01:41:16 WARNING mlflow.models.model: Model logged without a signature and input example. Please set `input_example` parameter when logging the model to auto infer the model signature.\u001b[0m\n"
     ]
    },
    {
     "name": "stdout",
     "output_type": "stream",
     "text": [
      "🏃 View run Bow_(2, 2)_Random_Forest at: http://ec2-13-48-70-156.eu-north-1.compute.amazonaws.com:5000/#/experiments/185191310476379778/runs/736ea85a80f5453f827361268665191e\n",
      "🧪 View experiment at: http://ec2-13-48-70-156.eu-north-1.compute.amazonaws.com:5000/#/experiments/185191310476379778\n"
     ]
    },
    {
     "name": "stderr",
     "output_type": "stream",
     "text": [
      "2025/08/29 01:41:29 WARNING mlflow.models.model: `artifact_path` is deprecated. Please use `name` instead.\n",
      "\u001b[31m2025/08/29 01:41:34 WARNING mlflow.models.model: Model logged without a signature and input example. Please set `input_example` parameter when logging the model to auto infer the model signature.\u001b[0m\n"
     ]
    },
    {
     "name": "stdout",
     "output_type": "stream",
     "text": [
      "🏃 View run TR-IDF_(2, 2)_Random_Forest at: http://ec2-13-48-70-156.eu-north-1.compute.amazonaws.com:5000/#/experiments/185191310476379778/runs/2cb66efdaa3648d19c1bf343222ae304\n",
      "🧪 View experiment at: http://ec2-13-48-70-156.eu-north-1.compute.amazonaws.com:5000/#/experiments/185191310476379778\n"
     ]
    },
    {
     "name": "stderr",
     "output_type": "stream",
     "text": [
      "2025/08/29 01:41:49 WARNING mlflow.models.model: `artifact_path` is deprecated. Please use `name` instead.\n",
      "\u001b[31m2025/08/29 01:41:53 WARNING mlflow.models.model: Model logged without a signature and input example. Please set `input_example` parameter when logging the model to auto infer the model signature.\u001b[0m\n"
     ]
    },
    {
     "name": "stdout",
     "output_type": "stream",
     "text": [
      "🏃 View run Bow_(3, 3)_Random_Forest at: http://ec2-13-48-70-156.eu-north-1.compute.amazonaws.com:5000/#/experiments/185191310476379778/runs/c1a73798a7ae47bcac4926ac05bff875\n",
      "🧪 View experiment at: http://ec2-13-48-70-156.eu-north-1.compute.amazonaws.com:5000/#/experiments/185191310476379778\n"
     ]
    },
    {
     "name": "stderr",
     "output_type": "stream",
     "text": [
      "2025/08/29 01:42:09 WARNING mlflow.models.model: `artifact_path` is deprecated. Please use `name` instead.\n",
      "\u001b[31m2025/08/29 01:42:13 WARNING mlflow.models.model: Model logged without a signature and input example. Please set `input_example` parameter when logging the model to auto infer the model signature.\u001b[0m\n"
     ]
    },
    {
     "name": "stdout",
     "output_type": "stream",
     "text": [
      "🏃 View run TR-IDF_(3, 3)_Random_Forest at: http://ec2-13-48-70-156.eu-north-1.compute.amazonaws.com:5000/#/experiments/185191310476379778/runs/39ac35b0d6b84fbca6e3b30fafbd29e7\n",
      "🧪 View experiment at: http://ec2-13-48-70-156.eu-north-1.compute.amazonaws.com:5000/#/experiments/185191310476379778\n"
     ]
    }
   ],
   "source": [
    "# function to run the experiment\n",
    "def run_experiment(vectorizer_type, ngram_range, vectorizer_max_features, vectorizer_name):\n",
    "    # vectorization\n",
    "    if vectorizer_type == \"BoW\":\n",
    "        vectorizer = CountVectorizer(ngram_range = ngram_range, max_features = vectorizer_max_features)\n",
    "    elif vectorizer_type == \"TR-IDF\":\n",
    "        vectorizer = TfidfVectorizer(ngram_range = ngram_range, max_features = vectorizer_max_features)\n",
    "\n",
    "    x = vectorizer.fit_transform(data[\"clean_comment\"])\n",
    "    y = data[\"category\"]\n",
    "    x_train, x_test, y_train, y_test = train_test_split(x,y, test_size = 0.2, random_state = 42)\n",
    "\n",
    "    with mlflow.start_run() as run:\n",
    "        # set tags for experiement and run\n",
    "        mlflow.set_tag(\"mlflow.runName\", f\"{vectorizer_name}_{ngram_range}_Random_Forest\")\n",
    "        mlflow.set_tag(\"experiment_type\", \"feature_engineering\")\n",
    "        mlflow.set_tag(\"model_type\", \"RandomForestClassifier\")\n",
    "\n",
    "        # add a description\n",
    "        mlflow.set_tag(\"description\", f\"RandomForest with {vectorizer_name}, ngram_range = {ngram_range}, max_features = {vectorizer_max_features}\")\n",
    "\n",
    "        # log vectorizer parameters\n",
    "        mlflow.log_param(\"vectorizer_type\", vectorizer_type)\n",
    "        mlflow.log_param(\"ngram_range\", ngram_range)\n",
    "        mlflow.log_param(\"max_features\",  vectorizer_max_features)\n",
    "\n",
    "        # log random forest parameters\n",
    "        n_estimators = 200\n",
    "        max_depth = 15\n",
    "\n",
    "        mlflow.log_param(\"n_estimator\", n_estimators)\n",
    "        mlflow.log_param(\"max_depth\", max_depth)\n",
    "\n",
    "        # initialise and train the model\n",
    "        model = RandomForestClassifier(n_estimators = n_estimators, max_depth = max_depth, random_state = 42)\n",
    "        model.fit(x_train, y_train)\n",
    "\n",
    "        # make prediction and log metrics\n",
    "        y_pred = model.predict(x_test)\n",
    "\n",
    "        accuracy = accuracy_score(y_test, y_pred)\n",
    "        mlflow.log_metric(\"accuracy\", accuracy)\n",
    "\n",
    "        c_report = classification_report(y_test, y_pred, output_dict = True)\n",
    "        for label, metrics in c_report.items():\n",
    "            if isinstance(metrics, dict):\n",
    "                for metric, value in metrics.items():\n",
    "                    mlflow.log_metric(f\"{label}_{metric}\", value)\n",
    "\n",
    "        # log confussion matrics\n",
    "        cm = confusion_matrix(y_test, y_pred)\n",
    "        plt.figure(figsize = (10,7))\n",
    "        sns.heatmap(cm, annot = True, fmt = \"d\", cmap = \"Blues\")\n",
    "        plt.xlabel('Predicted')\n",
    "        plt.ylabel('Actual')\n",
    "        plt.title(f'Confusion Matrix: {vectorizer_name}, {ngram_range}')\n",
    "        plt.savefig(\"conf_mat.png\")\n",
    "        mlflow.log_artifact(\"conf_mat.png\")\n",
    "        plt.close()\n",
    "\n",
    "        # log the model\n",
    "        mlflow.sklearn.log_model(model, f\"random_forest_model_{vectorizer_name}_{ngram_range}\")\n",
    "\n",
    "\n",
    "# run experiments for BoW and TF-IDF with different ngram_range\n",
    "ngram_ranges = [(1,1), (1,2), (1,3)]\n",
    "max_features = 5000\n",
    "\n",
    "for ngram_range in ngram_ranges:\n",
    "    # BoW Experiment\n",
    "    run_experiment(\"BoW\", ngram_range, max_features, vectorizer_name = \"Bow\")\n",
    "\n",
    "    # TF-IDF Experiment\n",
    "    run_experiment(\"TR-IDF\", ngram_range, max_features, vectorizer_name = \"TR-IDF\")\n",
    "    \n",
    "\n",
    "\n",
    "        \n"
   ]
  },
  {
   "cell_type": "markdown",
   "id": "dd59ad15",
   "metadata": {},
   "source": [
    "#### 3. Third experiment- "
   ]
  },
  {
   "cell_type": "code",
   "execution_count": null,
   "id": "11a5ff24",
   "metadata": {},
   "outputs": [],
   "source": [
    "mlflow.set_experiment(\"3. TF_IDF-max_feature\")\n",
    "def run_experiement_tidf(max_features):\n",
    "    # trigram settings\n",
    "    ngram_range = {1, 3}\n",
    "\n",
    "    vectorizer = TfidfVectorizer(ngram_range = ngram_range, max_features = max_features)\n",
    " \n",
    "    x = vectorizer.fit_transform(data[\"clean_comment\"])\n",
    "    y = data[\"category\"]\n",
    "    x_train, x_test, y_train, y_test = train_test_split(x,y, test_size = 0.2, random_state = 42)\n",
    "\n",
    "    with mlflow.start_run() as run:\n",
    "        # set tags for the experiment and run\n",
    "        mlflow.set_tag(\"mlflow.runName\", \"TFIDF_Trigram_max_feature\")\n",
    "        mlflow.set_tag(\"experiment type\", \"Feature Engineering\")\n",
    "        mlflow.set_tag(\"model_type\", \"RandomForestClassifier\")\n",
    "\n",
    "        # add description\n",
    "\n",
    "        mlflow.set_tag (\"description\", f\"Random forest with TFidf triagram, max_features = {max_features}\")\n",
    "\n",
    "        # log vector parameter\n",
    "        mlflow.log_param(\"vectorizer_type\", \"TF-IDF\")\n",
    "        mlflow.log_param(\"ngram_range\", ngram_range)\n",
    "        mlflow.log_param(\"max_features\", max_features)\n",
    "\n",
    "        # log randome forest parameter\n",
    "        n_estimators = 200\n",
    "        max_depth = 15\n",
    "\n",
    "        mlflow.log_param(\"n_estimator\", n_estimators)\n",
    "        mlflow.log_param(\"max_depth\", max_depth)\n",
    "\n",
    "        # initialise and train the model\n",
    "        model = RandomForestClassifier(n_estimators = n_estimators, max_depth = max_depth, random_state = 42)\n",
    "        model.fit(x_train, y_train)\n",
    "\n",
    "        # make prediction and log metrics\n",
    "        y_pred = model.predict(x_test)\n",
    "\n",
    "        accuracy = accuracy_score(y_test, y_pred)\n",
    "        mlflow.log_metric(\"accuracy\", accuracy)\n",
    "\n",
    "        c_report = classification_report(y_test, y_pred, output_dict = True)\n",
    "        for label, metrics in c_report.items():\n",
    "            if isinstance(metrics, dict):\n",
    "                for metric, value in metrics.items():\n",
    "                    mlflow.log_metric(f\"{label}_{metric}\", value)\n",
    "\n",
    "        # log confussion matrics\n",
    "        cm = confusion_matrix(y_test, y_pred)\n",
    "        plt.figure(figsize = (10,7))\n",
    "        sns.heatmap(cm, annot = True, fmt = \"d\", cmap = \"Blues\")\n",
    "        plt.xlabel('Predicted')\n",
    "        plt.ylabel('Actual')\n",
    "        plt.title(f'Confusion Matrix: TFIDF- Trigram, {ngram_range}')\n",
    "        plt.savefig(\"conf_mat.png\")\n",
    "        mlflow.log_artifact(\"conf_mat.png\")\n",
    "        plt.close()\n",
    "\n",
    "        # log the model\n",
    "        mlflow.sklearn.log_model(model, f\"random_forest_model_TFIDF_Trigram_{ngram_range}\")\n",
    "\n",
    "\n",
    "\n",
    "max_feature_values = [1000, 2000, 30000,40000,5000,6000,7000,8000,9000,10000]\n",
    "\n",
    "for i in max_feature_values:\n",
    "    run_experiement_tidf(i)\n",
    "    "
   ]
  }
 ],
 "metadata": {
  "kernelspec": {
   "display_name": "Python 3",
   "language": "python",
   "name": "python3"
  },
  "language_info": {
   "codemirror_mode": {
    "name": "ipython",
    "version": 3
   },
   "file_extension": ".py",
   "mimetype": "text/x-python",
   "name": "python",
   "nbconvert_exporter": "python",
   "pygments_lexer": "ipython3",
   "version": "3.13.5"
  }
 },
 "nbformat": 4,
 "nbformat_minor": 5
}
